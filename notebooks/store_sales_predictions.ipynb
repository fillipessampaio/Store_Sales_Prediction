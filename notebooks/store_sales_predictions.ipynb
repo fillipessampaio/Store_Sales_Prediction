{
 "cells": [
  {
   "cell_type": "markdown",
   "id": "494a5eab",
   "metadata": {},
   "source": [
    "# STORE SALES PREDICTIONS"
   ]
  },
  {
   "cell_type": "markdown",
   "id": "7a4cb1f8",
   "metadata": {},
   "source": [
    "# 1. BUSINESS UNDERSTANDING"
   ]
  },
  {
   "cell_type": "markdown",
   "id": "a0edf312",
   "metadata": {},
   "source": [
    "### 1.1. Business objectives"
   ]
  },
  {
   "cell_type": "markdown",
   "id": "63cd72f8",
   "metadata": {},
   "source": [
    "Store managers are tasked with **predicting their daily sales for up to six weeks in advance**."
   ]
  },
  {
   "cell_type": "markdown",
   "id": "cb763eae",
   "metadata": {},
   "source": [
    "### 1.2. Assess situation"
   ]
  },
  {
   "cell_type": "markdown",
   "id": "43ecaf97",
   "metadata": {},
   "source": [
    "Store sales are influenced by many factors, including promotions, competition, school and state holidays, seasonality, and locality. With thousands of individual managers predicting sales based on their unique circumstances, the accuracy of results can be quite varied."
   ]
  },
  {
   "cell_type": "markdown",
   "id": "bdc94c21",
   "metadata": {},
   "source": [
    "### 1.3. Project goals"
   ]
  },
  {
   "cell_type": "markdown",
   "id": "a7e67c23",
   "metadata": {},
   "source": [
    "This project intends to build a regression model to predict daily sales up to 6 weeks ahead using machine learning algorithms."
   ]
  },
  {
   "cell_type": "markdown",
   "id": "0f6618ad",
   "metadata": {},
   "source": [
    "# 2. DATA UNDERSTANDING"
   ]
  },
  {
   "cell_type": "markdown",
   "id": "9bdaa0f3",
   "metadata": {},
   "source": [
    "### 2.1. Import libraries and helper functions"
   ]
  },
  {
   "cell_type": "code",
   "execution_count": 1,
   "id": "ab16e22a",
   "metadata": {},
   "outputs": [
    {
     "name": "stdout",
     "output_type": "stream",
     "text": [
      "Populating the interactive namespace from numpy and matplotlib\n"
     ]
    }
   ],
   "source": [
    "import pandas as pd\n",
    "import numpy as np\n",
    "import seaborn as sns\n",
    "import matplotlib.pyplot as plt\n",
    "import inflection\n",
    "import pickle\n",
    "import xgboost as xgb\n",
    "from sklearn.preprocessing   import StandardScaler, MinMaxScaler, RobustScaler, LabelEncoder\n",
    "from sklearn.linear_model    import LinearRegression, Lasso\n",
    "from sklearn.ensemble        import RandomForestRegressor\n",
    "from sklearn.metrics         import mean_absolute_error, mean_absolute_percentage_error, mean_squared_error\n",
    "from sklearn.model_selection import TimeSeriesSplit\n",
    "from sklearn.model_selection import RandomizedSearchCV\n",
    "from boruta                  import BorutaPy\n",
    "\n",
    "def jupyter_settings():\n",
    "    %matplotlib inline \n",
    "    %pylab inline\n",
    "    plt.rcParams['figure.figsize']=[20,10]\n",
    "    plt.rcParams['font.size']=10\n",
    "    sns.set()\n",
    "jupyter_settings()"
   ]
  },
  {
   "cell_type": "markdown",
   "id": "57571dac",
   "metadata": {},
   "source": [
    "### 2.2. Collect initial data"
   ]
  },
  {
   "cell_type": "code",
   "execution_count": 2,
   "id": "54a34e5c",
   "metadata": {},
   "outputs": [],
   "source": [
    "# Loading data\n",
    "df_raw_store = pd.read_csv('../data/store.csv', low_memory=False)\n",
    "df_raw_train = pd.read_csv('../data/train.csv', low_memory=False)\n",
    "\n",
    "# Merging\n",
    "df = pd.merge(df_raw_train, df_raw_store, how='left', on='Store')\n",
    "\n",
    "# Snakecase pattern\n",
    "columns_old = list(df.columns)\n",
    "snakecase = lambda x: inflection.underscore(x)\n",
    "columns_new = map(snakecase, columns_old)\n",
    "df.columns = columns_new\n",
    "\n",
    "# Dataset\n",
    "df1 = df.copy()"
   ]
  },
  {
   "cell_type": "markdown",
   "id": "ab35c1fa",
   "metadata": {},
   "source": [
    "### 2.3. Describe data"
   ]
  },
  {
   "cell_type": "code",
   "execution_count": 3,
   "id": "e68e2ca8",
   "metadata": {},
   "outputs": [
    {
     "data": {
      "text/html": [
       "<div>\n",
       "<style scoped>\n",
       "    .dataframe tbody tr th:only-of-type {\n",
       "        vertical-align: middle;\n",
       "    }\n",
       "\n",
       "    .dataframe tbody tr th {\n",
       "        vertical-align: top;\n",
       "    }\n",
       "\n",
       "    .dataframe thead th {\n",
       "        text-align: right;\n",
       "    }\n",
       "</style>\n",
       "<table border=\"1\" class=\"dataframe\">\n",
       "  <thead>\n",
       "    <tr style=\"text-align: right;\">\n",
       "      <th></th>\n",
       "      <th>store</th>\n",
       "      <th>day_of_week</th>\n",
       "      <th>date</th>\n",
       "      <th>sales</th>\n",
       "      <th>customers</th>\n",
       "      <th>open</th>\n",
       "      <th>promo</th>\n",
       "      <th>state_holiday</th>\n",
       "      <th>school_holiday</th>\n",
       "      <th>store_type</th>\n",
       "      <th>assortment</th>\n",
       "      <th>competition_distance</th>\n",
       "      <th>competition_open_since_month</th>\n",
       "      <th>competition_open_since_year</th>\n",
       "      <th>promo2</th>\n",
       "      <th>promo2_since_week</th>\n",
       "      <th>promo2_since_year</th>\n",
       "      <th>promo_interval</th>\n",
       "    </tr>\n",
       "  </thead>\n",
       "  <tbody>\n",
       "    <tr>\n",
       "      <th>0</th>\n",
       "      <td>1</td>\n",
       "      <td>5</td>\n",
       "      <td>2015-07-31</td>\n",
       "      <td>5263</td>\n",
       "      <td>555</td>\n",
       "      <td>1</td>\n",
       "      <td>1</td>\n",
       "      <td>0</td>\n",
       "      <td>1</td>\n",
       "      <td>c</td>\n",
       "      <td>a</td>\n",
       "      <td>1270.0</td>\n",
       "      <td>9.0</td>\n",
       "      <td>2008.0</td>\n",
       "      <td>0</td>\n",
       "      <td>NaN</td>\n",
       "      <td>NaN</td>\n",
       "      <td>NaN</td>\n",
       "    </tr>\n",
       "    <tr>\n",
       "      <th>1</th>\n",
       "      <td>2</td>\n",
       "      <td>5</td>\n",
       "      <td>2015-07-31</td>\n",
       "      <td>6064</td>\n",
       "      <td>625</td>\n",
       "      <td>1</td>\n",
       "      <td>1</td>\n",
       "      <td>0</td>\n",
       "      <td>1</td>\n",
       "      <td>a</td>\n",
       "      <td>a</td>\n",
       "      <td>570.0</td>\n",
       "      <td>11.0</td>\n",
       "      <td>2007.0</td>\n",
       "      <td>1</td>\n",
       "      <td>13.0</td>\n",
       "      <td>2010.0</td>\n",
       "      <td>Jan,Apr,Jul,Oct</td>\n",
       "    </tr>\n",
       "    <tr>\n",
       "      <th>2</th>\n",
       "      <td>3</td>\n",
       "      <td>5</td>\n",
       "      <td>2015-07-31</td>\n",
       "      <td>8314</td>\n",
       "      <td>821</td>\n",
       "      <td>1</td>\n",
       "      <td>1</td>\n",
       "      <td>0</td>\n",
       "      <td>1</td>\n",
       "      <td>a</td>\n",
       "      <td>a</td>\n",
       "      <td>14130.0</td>\n",
       "      <td>12.0</td>\n",
       "      <td>2006.0</td>\n",
       "      <td>1</td>\n",
       "      <td>14.0</td>\n",
       "      <td>2011.0</td>\n",
       "      <td>Jan,Apr,Jul,Oct</td>\n",
       "    </tr>\n",
       "    <tr>\n",
       "      <th>3</th>\n",
       "      <td>4</td>\n",
       "      <td>5</td>\n",
       "      <td>2015-07-31</td>\n",
       "      <td>13995</td>\n",
       "      <td>1498</td>\n",
       "      <td>1</td>\n",
       "      <td>1</td>\n",
       "      <td>0</td>\n",
       "      <td>1</td>\n",
       "      <td>c</td>\n",
       "      <td>c</td>\n",
       "      <td>620.0</td>\n",
       "      <td>9.0</td>\n",
       "      <td>2009.0</td>\n",
       "      <td>0</td>\n",
       "      <td>NaN</td>\n",
       "      <td>NaN</td>\n",
       "      <td>NaN</td>\n",
       "    </tr>\n",
       "    <tr>\n",
       "      <th>4</th>\n",
       "      <td>5</td>\n",
       "      <td>5</td>\n",
       "      <td>2015-07-31</td>\n",
       "      <td>4822</td>\n",
       "      <td>559</td>\n",
       "      <td>1</td>\n",
       "      <td>1</td>\n",
       "      <td>0</td>\n",
       "      <td>1</td>\n",
       "      <td>a</td>\n",
       "      <td>a</td>\n",
       "      <td>29910.0</td>\n",
       "      <td>4.0</td>\n",
       "      <td>2015.0</td>\n",
       "      <td>0</td>\n",
       "      <td>NaN</td>\n",
       "      <td>NaN</td>\n",
       "      <td>NaN</td>\n",
       "    </tr>\n",
       "  </tbody>\n",
       "</table>\n",
       "</div>"
      ],
      "text/plain": [
       "   store  day_of_week        date  sales  customers  open  promo  \\\n",
       "0      1            5  2015-07-31   5263        555     1      1   \n",
       "1      2            5  2015-07-31   6064        625     1      1   \n",
       "2      3            5  2015-07-31   8314        821     1      1   \n",
       "3      4            5  2015-07-31  13995       1498     1      1   \n",
       "4      5            5  2015-07-31   4822        559     1      1   \n",
       "\n",
       "  state_holiday  school_holiday store_type assortment  competition_distance  \\\n",
       "0             0               1          c          a                1270.0   \n",
       "1             0               1          a          a                 570.0   \n",
       "2             0               1          a          a               14130.0   \n",
       "3             0               1          c          c                 620.0   \n",
       "4             0               1          a          a               29910.0   \n",
       "\n",
       "   competition_open_since_month  competition_open_since_year  promo2  \\\n",
       "0                           9.0                       2008.0       0   \n",
       "1                          11.0                       2007.0       1   \n",
       "2                          12.0                       2006.0       1   \n",
       "3                           9.0                       2009.0       0   \n",
       "4                           4.0                       2015.0       0   \n",
       "\n",
       "   promo2_since_week  promo2_since_year   promo_interval  \n",
       "0                NaN                NaN              NaN  \n",
       "1               13.0             2010.0  Jan,Apr,Jul,Oct  \n",
       "2               14.0             2011.0  Jan,Apr,Jul,Oct  \n",
       "3                NaN                NaN              NaN  \n",
       "4                NaN                NaN              NaN  "
      ]
     },
     "metadata": {},
     "output_type": "display_data"
    },
    {
     "data": {
      "text/html": [
       "<div>\n",
       "<style scoped>\n",
       "    .dataframe tbody tr th:only-of-type {\n",
       "        vertical-align: middle;\n",
       "    }\n",
       "\n",
       "    .dataframe tbody tr th {\n",
       "        vertical-align: top;\n",
       "    }\n",
       "\n",
       "    .dataframe thead th {\n",
       "        text-align: right;\n",
       "    }\n",
       "</style>\n",
       "<table border=\"1\" class=\"dataframe\">\n",
       "  <thead>\n",
       "    <tr style=\"text-align: right;\">\n",
       "      <th></th>\n",
       "      <th>store</th>\n",
       "      <th>day_of_week</th>\n",
       "      <th>date</th>\n",
       "      <th>sales</th>\n",
       "      <th>customers</th>\n",
       "      <th>open</th>\n",
       "      <th>promo</th>\n",
       "      <th>state_holiday</th>\n",
       "      <th>school_holiday</th>\n",
       "      <th>store_type</th>\n",
       "      <th>assortment</th>\n",
       "      <th>competition_distance</th>\n",
       "      <th>competition_open_since_month</th>\n",
       "      <th>competition_open_since_year</th>\n",
       "      <th>promo2</th>\n",
       "      <th>promo2_since_week</th>\n",
       "      <th>promo2_since_year</th>\n",
       "      <th>promo_interval</th>\n",
       "    </tr>\n",
       "  </thead>\n",
       "  <tbody>\n",
       "    <tr>\n",
       "      <th>1017204</th>\n",
       "      <td>1111</td>\n",
       "      <td>2</td>\n",
       "      <td>2013-01-01</td>\n",
       "      <td>0</td>\n",
       "      <td>0</td>\n",
       "      <td>0</td>\n",
       "      <td>0</td>\n",
       "      <td>a</td>\n",
       "      <td>1</td>\n",
       "      <td>a</td>\n",
       "      <td>a</td>\n",
       "      <td>1900.0</td>\n",
       "      <td>6.0</td>\n",
       "      <td>2014.0</td>\n",
       "      <td>1</td>\n",
       "      <td>31.0</td>\n",
       "      <td>2013.0</td>\n",
       "      <td>Jan,Apr,Jul,Oct</td>\n",
       "    </tr>\n",
       "    <tr>\n",
       "      <th>1017205</th>\n",
       "      <td>1112</td>\n",
       "      <td>2</td>\n",
       "      <td>2013-01-01</td>\n",
       "      <td>0</td>\n",
       "      <td>0</td>\n",
       "      <td>0</td>\n",
       "      <td>0</td>\n",
       "      <td>a</td>\n",
       "      <td>1</td>\n",
       "      <td>c</td>\n",
       "      <td>c</td>\n",
       "      <td>1880.0</td>\n",
       "      <td>4.0</td>\n",
       "      <td>2006.0</td>\n",
       "      <td>0</td>\n",
       "      <td>NaN</td>\n",
       "      <td>NaN</td>\n",
       "      <td>NaN</td>\n",
       "    </tr>\n",
       "    <tr>\n",
       "      <th>1017206</th>\n",
       "      <td>1113</td>\n",
       "      <td>2</td>\n",
       "      <td>2013-01-01</td>\n",
       "      <td>0</td>\n",
       "      <td>0</td>\n",
       "      <td>0</td>\n",
       "      <td>0</td>\n",
       "      <td>a</td>\n",
       "      <td>1</td>\n",
       "      <td>a</td>\n",
       "      <td>c</td>\n",
       "      <td>9260.0</td>\n",
       "      <td>NaN</td>\n",
       "      <td>NaN</td>\n",
       "      <td>0</td>\n",
       "      <td>NaN</td>\n",
       "      <td>NaN</td>\n",
       "      <td>NaN</td>\n",
       "    </tr>\n",
       "    <tr>\n",
       "      <th>1017207</th>\n",
       "      <td>1114</td>\n",
       "      <td>2</td>\n",
       "      <td>2013-01-01</td>\n",
       "      <td>0</td>\n",
       "      <td>0</td>\n",
       "      <td>0</td>\n",
       "      <td>0</td>\n",
       "      <td>a</td>\n",
       "      <td>1</td>\n",
       "      <td>a</td>\n",
       "      <td>c</td>\n",
       "      <td>870.0</td>\n",
       "      <td>NaN</td>\n",
       "      <td>NaN</td>\n",
       "      <td>0</td>\n",
       "      <td>NaN</td>\n",
       "      <td>NaN</td>\n",
       "      <td>NaN</td>\n",
       "    </tr>\n",
       "    <tr>\n",
       "      <th>1017208</th>\n",
       "      <td>1115</td>\n",
       "      <td>2</td>\n",
       "      <td>2013-01-01</td>\n",
       "      <td>0</td>\n",
       "      <td>0</td>\n",
       "      <td>0</td>\n",
       "      <td>0</td>\n",
       "      <td>a</td>\n",
       "      <td>1</td>\n",
       "      <td>d</td>\n",
       "      <td>c</td>\n",
       "      <td>5350.0</td>\n",
       "      <td>NaN</td>\n",
       "      <td>NaN</td>\n",
       "      <td>1</td>\n",
       "      <td>22.0</td>\n",
       "      <td>2012.0</td>\n",
       "      <td>Mar,Jun,Sept,Dec</td>\n",
       "    </tr>\n",
       "  </tbody>\n",
       "</table>\n",
       "</div>"
      ],
      "text/plain": [
       "         store  day_of_week        date  sales  customers  open  promo  \\\n",
       "1017204   1111            2  2013-01-01      0          0     0      0   \n",
       "1017205   1112            2  2013-01-01      0          0     0      0   \n",
       "1017206   1113            2  2013-01-01      0          0     0      0   \n",
       "1017207   1114            2  2013-01-01      0          0     0      0   \n",
       "1017208   1115            2  2013-01-01      0          0     0      0   \n",
       "\n",
       "        state_holiday  school_holiday store_type assortment  \\\n",
       "1017204             a               1          a          a   \n",
       "1017205             a               1          c          c   \n",
       "1017206             a               1          a          c   \n",
       "1017207             a               1          a          c   \n",
       "1017208             a               1          d          c   \n",
       "\n",
       "         competition_distance  competition_open_since_month  \\\n",
       "1017204                1900.0                           6.0   \n",
       "1017205                1880.0                           4.0   \n",
       "1017206                9260.0                           NaN   \n",
       "1017207                 870.0                           NaN   \n",
       "1017208                5350.0                           NaN   \n",
       "\n",
       "         competition_open_since_year  promo2  promo2_since_week  \\\n",
       "1017204                       2014.0       1               31.0   \n",
       "1017205                       2006.0       0                NaN   \n",
       "1017206                          NaN       0                NaN   \n",
       "1017207                          NaN       0                NaN   \n",
       "1017208                          NaN       1               22.0   \n",
       "\n",
       "         promo2_since_year    promo_interval  \n",
       "1017204             2013.0   Jan,Apr,Jul,Oct  \n",
       "1017205                NaN               NaN  \n",
       "1017206                NaN               NaN  \n",
       "1017207                NaN               NaN  \n",
       "1017208             2012.0  Mar,Jun,Sept,Dec  "
      ]
     },
     "metadata": {},
     "output_type": "display_data"
    },
    {
     "name": "stdout",
     "output_type": "stream",
     "text": [
      "<class 'pandas.core.frame.DataFrame'>\n",
      "Int64Index: 1017209 entries, 0 to 1017208\n",
      "Data columns (total 18 columns):\n",
      " #   Column                        Non-Null Count    Dtype  \n",
      "---  ------                        --------------    -----  \n",
      " 0   store                         1017209 non-null  int64  \n",
      " 1   day_of_week                   1017209 non-null  int64  \n",
      " 2   date                          1017209 non-null  object \n",
      " 3   sales                         1017209 non-null  int64  \n",
      " 4   customers                     1017209 non-null  int64  \n",
      " 5   open                          1017209 non-null  int64  \n",
      " 6   promo                         1017209 non-null  int64  \n",
      " 7   state_holiday                 1017209 non-null  object \n",
      " 8   school_holiday                1017209 non-null  int64  \n",
      " 9   store_type                    1017209 non-null  object \n",
      " 10  assortment                    1017209 non-null  object \n",
      " 11  competition_distance          1014567 non-null  float64\n",
      " 12  competition_open_since_month  693861 non-null   float64\n",
      " 13  competition_open_since_year   693861 non-null   float64\n",
      " 14  promo2                        1017209 non-null  int64  \n",
      " 15  promo2_since_week             509178 non-null   float64\n",
      " 16  promo2_since_year             509178 non-null   float64\n",
      " 17  promo_interval                509178 non-null   object \n",
      "dtypes: float64(5), int64(8), object(5)\n",
      "memory usage: 147.5+ MB\n"
     ]
    },
    {
     "data": {
      "text/plain": [
       "None"
      ]
     },
     "metadata": {},
     "output_type": "display_data"
    }
   ],
   "source": [
    "# Visualizing dataset\n",
    "display(df1.head())\n",
    "display(df1.tail())\n",
    "\n",
    "# Data info\n",
    "display(df1.info())"
   ]
  },
  {
   "cell_type": "markdown",
   "id": "bb647b00",
   "metadata": {},
   "source": [
    "### 2.4. Explore data"
   ]
  },
  {
   "cell_type": "markdown",
   "id": "7fbe6b46",
   "metadata": {},
   "source": [
    "### 2.4.1. Numerical attributes"
   ]
  },
  {
   "cell_type": "code",
   "execution_count": 4,
   "id": "8f35e759",
   "metadata": {},
   "outputs": [
    {
     "data": {
      "text/html": [
       "<div>\n",
       "<style scoped>\n",
       "    .dataframe tbody tr th:only-of-type {\n",
       "        vertical-align: middle;\n",
       "    }\n",
       "\n",
       "    .dataframe tbody tr th {\n",
       "        vertical-align: top;\n",
       "    }\n",
       "\n",
       "    .dataframe thead th {\n",
       "        text-align: right;\n",
       "    }\n",
       "</style>\n",
       "<table border=\"1\" class=\"dataframe\">\n",
       "  <thead>\n",
       "    <tr style=\"text-align: right;\">\n",
       "      <th></th>\n",
       "      <th>count</th>\n",
       "      <th>mean</th>\n",
       "      <th>std</th>\n",
       "      <th>min</th>\n",
       "      <th>25%</th>\n",
       "      <th>50%</th>\n",
       "      <th>75%</th>\n",
       "      <th>max</th>\n",
       "    </tr>\n",
       "  </thead>\n",
       "  <tbody>\n",
       "    <tr>\n",
       "      <th>store</th>\n",
       "      <td>1017209.0</td>\n",
       "      <td>558.429727</td>\n",
       "      <td>321.908651</td>\n",
       "      <td>1.0</td>\n",
       "      <td>280.0</td>\n",
       "      <td>558.0</td>\n",
       "      <td>838.0</td>\n",
       "      <td>1115.0</td>\n",
       "    </tr>\n",
       "    <tr>\n",
       "      <th>day_of_week</th>\n",
       "      <td>1017209.0</td>\n",
       "      <td>3.998341</td>\n",
       "      <td>1.997391</td>\n",
       "      <td>1.0</td>\n",
       "      <td>2.0</td>\n",
       "      <td>4.0</td>\n",
       "      <td>6.0</td>\n",
       "      <td>7.0</td>\n",
       "    </tr>\n",
       "    <tr>\n",
       "      <th>sales</th>\n",
       "      <td>1017209.0</td>\n",
       "      <td>5773.818972</td>\n",
       "      <td>3849.926175</td>\n",
       "      <td>0.0</td>\n",
       "      <td>3727.0</td>\n",
       "      <td>5744.0</td>\n",
       "      <td>7856.0</td>\n",
       "      <td>41551.0</td>\n",
       "    </tr>\n",
       "    <tr>\n",
       "      <th>customers</th>\n",
       "      <td>1017209.0</td>\n",
       "      <td>633.145946</td>\n",
       "      <td>464.411734</td>\n",
       "      <td>0.0</td>\n",
       "      <td>405.0</td>\n",
       "      <td>609.0</td>\n",
       "      <td>837.0</td>\n",
       "      <td>7388.0</td>\n",
       "    </tr>\n",
       "    <tr>\n",
       "      <th>open</th>\n",
       "      <td>1017209.0</td>\n",
       "      <td>0.830107</td>\n",
       "      <td>0.375539</td>\n",
       "      <td>0.0</td>\n",
       "      <td>1.0</td>\n",
       "      <td>1.0</td>\n",
       "      <td>1.0</td>\n",
       "      <td>1.0</td>\n",
       "    </tr>\n",
       "    <tr>\n",
       "      <th>promo</th>\n",
       "      <td>1017209.0</td>\n",
       "      <td>0.381515</td>\n",
       "      <td>0.485759</td>\n",
       "      <td>0.0</td>\n",
       "      <td>0.0</td>\n",
       "      <td>0.0</td>\n",
       "      <td>1.0</td>\n",
       "      <td>1.0</td>\n",
       "    </tr>\n",
       "    <tr>\n",
       "      <th>school_holiday</th>\n",
       "      <td>1017209.0</td>\n",
       "      <td>0.178647</td>\n",
       "      <td>0.383056</td>\n",
       "      <td>0.0</td>\n",
       "      <td>0.0</td>\n",
       "      <td>0.0</td>\n",
       "      <td>0.0</td>\n",
       "      <td>1.0</td>\n",
       "    </tr>\n",
       "    <tr>\n",
       "      <th>competition_distance</th>\n",
       "      <td>1014567.0</td>\n",
       "      <td>5430.085652</td>\n",
       "      <td>7715.323700</td>\n",
       "      <td>20.0</td>\n",
       "      <td>710.0</td>\n",
       "      <td>2330.0</td>\n",
       "      <td>6890.0</td>\n",
       "      <td>75860.0</td>\n",
       "    </tr>\n",
       "    <tr>\n",
       "      <th>competition_open_since_month</th>\n",
       "      <td>693861.0</td>\n",
       "      <td>7.222866</td>\n",
       "      <td>3.211832</td>\n",
       "      <td>1.0</td>\n",
       "      <td>4.0</td>\n",
       "      <td>8.0</td>\n",
       "      <td>10.0</td>\n",
       "      <td>12.0</td>\n",
       "    </tr>\n",
       "    <tr>\n",
       "      <th>competition_open_since_year</th>\n",
       "      <td>693861.0</td>\n",
       "      <td>2008.690228</td>\n",
       "      <td>5.992644</td>\n",
       "      <td>1900.0</td>\n",
       "      <td>2006.0</td>\n",
       "      <td>2010.0</td>\n",
       "      <td>2013.0</td>\n",
       "      <td>2015.0</td>\n",
       "    </tr>\n",
       "    <tr>\n",
       "      <th>promo2</th>\n",
       "      <td>1017209.0</td>\n",
       "      <td>0.500564</td>\n",
       "      <td>0.500000</td>\n",
       "      <td>0.0</td>\n",
       "      <td>0.0</td>\n",
       "      <td>1.0</td>\n",
       "      <td>1.0</td>\n",
       "      <td>1.0</td>\n",
       "    </tr>\n",
       "    <tr>\n",
       "      <th>promo2_since_week</th>\n",
       "      <td>509178.0</td>\n",
       "      <td>23.269093</td>\n",
       "      <td>14.095973</td>\n",
       "      <td>1.0</td>\n",
       "      <td>13.0</td>\n",
       "      <td>22.0</td>\n",
       "      <td>37.0</td>\n",
       "      <td>50.0</td>\n",
       "    </tr>\n",
       "    <tr>\n",
       "      <th>promo2_since_year</th>\n",
       "      <td>509178.0</td>\n",
       "      <td>2011.752774</td>\n",
       "      <td>1.662870</td>\n",
       "      <td>2009.0</td>\n",
       "      <td>2011.0</td>\n",
       "      <td>2012.0</td>\n",
       "      <td>2013.0</td>\n",
       "      <td>2015.0</td>\n",
       "    </tr>\n",
       "  </tbody>\n",
       "</table>\n",
       "</div>"
      ],
      "text/plain": [
       "                                  count         mean          std     min  \\\n",
       "store                         1017209.0   558.429727   321.908651     1.0   \n",
       "day_of_week                   1017209.0     3.998341     1.997391     1.0   \n",
       "sales                         1017209.0  5773.818972  3849.926175     0.0   \n",
       "customers                     1017209.0   633.145946   464.411734     0.0   \n",
       "open                          1017209.0     0.830107     0.375539     0.0   \n",
       "promo                         1017209.0     0.381515     0.485759     0.0   \n",
       "school_holiday                1017209.0     0.178647     0.383056     0.0   \n",
       "competition_distance          1014567.0  5430.085652  7715.323700    20.0   \n",
       "competition_open_since_month   693861.0     7.222866     3.211832     1.0   \n",
       "competition_open_since_year    693861.0  2008.690228     5.992644  1900.0   \n",
       "promo2                        1017209.0     0.500564     0.500000     0.0   \n",
       "promo2_since_week              509178.0    23.269093    14.095973     1.0   \n",
       "promo2_since_year              509178.0  2011.752774     1.662870  2009.0   \n",
       "\n",
       "                                 25%     50%     75%      max  \n",
       "store                          280.0   558.0   838.0   1115.0  \n",
       "day_of_week                      2.0     4.0     6.0      7.0  \n",
       "sales                         3727.0  5744.0  7856.0  41551.0  \n",
       "customers                      405.0   609.0   837.0   7388.0  \n",
       "open                             1.0     1.0     1.0      1.0  \n",
       "promo                            0.0     0.0     1.0      1.0  \n",
       "school_holiday                   0.0     0.0     0.0      1.0  \n",
       "competition_distance           710.0  2330.0  6890.0  75860.0  \n",
       "competition_open_since_month     4.0     8.0    10.0     12.0  \n",
       "competition_open_since_year   2006.0  2010.0  2013.0   2015.0  \n",
       "promo2                           0.0     1.0     1.0      1.0  \n",
       "promo2_since_week               13.0    22.0    37.0     50.0  \n",
       "promo2_since_year             2011.0  2012.0  2013.0   2015.0  "
      ]
     },
     "metadata": {},
     "output_type": "display_data"
    },
    {
     "data": {
      "image/png": "[encoded data removed]",
      "text/plain": [
       "<Figure size 1440x720 with 16 Axes>"
      ]
     },
     "metadata": {},
     "output_type": "display_data"
    }
   ],
   "source": [
    "# Numerical attributes\n",
    "num_attributes = df1.select_dtypes( include = ['int64','float64'] )\n",
    "display(num_attributes.describe().T)\n",
    "num_attributes.hist(bins=50);"
   ]
  },
  {
   "cell_type": "markdown",
   "id": "1f0cbf41",
   "metadata": {},
   "source": [
    "### 2.4.2. Datetime attribute"
   ]
  },
  {
   "cell_type": "code",
   "execution_count": 5,
   "id": "036caf4b",
   "metadata": {},
   "outputs": [
    {
     "name": "stdout",
     "output_type": "stream",
     "text": [
      "Lowest date: 2013-01-01 00:00:00\n",
      "Biggest date: 2015-07-31 00:00:00\n"
     ]
    },
    {
     "data": {
      "text/plain": [
       "<AxesSubplot:xlabel='date', ylabel='sales'>"
      ]
     },
     "execution_count": 5,
     "metadata": {},
     "output_type": "execute_result"
    },
    {
     "data": {
      "image/png": "[encoded data removed]",
      "text/plain": [
       "<Figure size 1440x720 with 1 Axes>"
      ]
     },
     "metadata": {},
     "output_type": "display_data"
    }
   ],
   "source": [
    "# Datetime attributes\n",
    "df1['date'] = pd.to_datetime( df1['date'])\n",
    "\n",
    "# Lowest date\n",
    "print('Lowest date: {}'.format(df1['date'].min() ) )\n",
    "\n",
    "# Biggest date\n",
    "print('Biggest date: {}'.format(df1['date'].max() ) )\n",
    "\n",
    "#Visualizing date by sales\n",
    "aux = df1[['date', 'sales']].groupby('date').sum().reset_index()\n",
    "sns.scatterplot(x='date', y='sales', data=aux)"
   ]
  },
  {
   "cell_type": "markdown",
   "id": "0b0800e7",
   "metadata": {},
   "source": [
    "### 2.4.3. Categorical attributes"
   ]
  },
  {
   "cell_type": "code",
   "execution_count": 6,
   "id": "511e772a",
   "metadata": {},
   "outputs": [
    {
     "data": {
      "text/plain": [
       "state_holiday     4\n",
       "store_type        4\n",
       "assortment        3\n",
       "promo_interval    4\n",
       "dtype: int64"
      ]
     },
     "metadata": {},
     "output_type": "display_data"
    },
    {
     "data": {
      "text/plain": [
       "<AxesSubplot:xlabel='promo_interval', ylabel='sales'>"
      ]
     },
     "execution_count": 6,
     "metadata": {},
     "output_type": "execute_result"
    },
    {
     "data": {
      "image/png": "[encoded data removed]",
      "text/plain": [
       "<Figure size 1440x720 with 4 Axes>"
      ]
     },
     "metadata": {},
     "output_type": "display_data"
    }
   ],
   "source": [
    "# Categorical attributes\n",
    "cat_attributes = df1.select_dtypes( exclude = ['int64','float64', 'datetime'] )\n",
    "display( cat_attributes.apply( lambda x: x.unique().shape[0] ) )\n",
    "\n",
    "# Visualizing categorical by sales\n",
    "aux = df1[ df1['sales'] > 0 ]\n",
    "\n",
    "plt.subplot(2, 2, 1)\n",
    "sns.boxplot(x='state_holiday', y= 'sales', data= aux)\n",
    "\n",
    "plt.subplot(2, 2, 2)\n",
    "sns.boxplot(x='store_type', y= 'sales', data= aux)\n",
    "\n",
    "plt.subplot(2, 2, 3)\n",
    "sns.boxplot(x='assortment', y= 'sales', data= aux)\n",
    "\n",
    "plt.subplot(2, 2, 4)\n",
    "sns.boxplot(x='promo_interval', y= 'sales', data= aux)"
   ]
  },
  {
   "cell_type": "markdown",
   "id": "b0bb2cf5",
   "metadata": {},
   "source": [
    "### 2.5. Verify data quality"
   ]
  },
  {
   "cell_type": "code",
   "execution_count": 7,
   "id": "e9fa916a",
   "metadata": {},
   "outputs": [
    {
     "data": {
      "text/plain": [
       "store                                0\n",
       "day_of_week                          0\n",
       "date                                 0\n",
       "sales                                0\n",
       "customers                            0\n",
       "open                                 0\n",
       "promo                                0\n",
       "state_holiday                        0\n",
       "school_holiday                       0\n",
       "store_type                           0\n",
       "assortment                           0\n",
       "competition_distance              2642\n",
       "competition_open_since_month    323348\n",
       "competition_open_since_year     323348\n",
       "promo2                               0\n",
       "promo2_since_week               508031\n",
       "promo2_since_year               508031\n",
       "promo_interval                  508031\n",
       "dtype: int64"
      ]
     },
     "execution_count": 7,
     "metadata": {},
     "output_type": "execute_result"
    }
   ],
   "source": [
    "# Checking NA\n",
    "df1.isna().sum()"
   ]
  },
  {
   "cell_type": "markdown",
   "id": "274b64b2",
   "metadata": {},
   "source": [
    "# 3. DATA PREPARATION"
   ]
  },
  {
   "cell_type": "markdown",
   "id": "abbd44fb",
   "metadata": {},
   "source": [
    "### 3.1. Select data"
   ]
  },
  {
   "cell_type": "code",
   "execution_count": 8,
   "id": "03f0afd8",
   "metadata": {},
   "outputs": [],
   "source": [
    "# Dataset\n",
    "df2 = df1.copy()\n",
    "\n",
    "# Dropping 'customers' -> It won't be available on the moment of predictions (test dataset)\n",
    "df2.drop('customers', axis=1, inplace=True)\n",
    "\n",
    "# Excluding rows where 'open'== 0 and 'sales' == 0 -> the store wasn't working or there are no sales \n",
    "df2 = df2[ (df2['open'] != 0) & (df2['sales'] > 0)]\n",
    "\n",
    "# Dropping 'open' -> It is not necessary anymore\n",
    "df2.drop('open', axis=1, inplace=True)"
   ]
  },
  {
   "cell_type": "markdown",
   "id": "8a209e57",
   "metadata": {},
   "source": [
    "### 3.2. Clean data"
   ]
  },
  {
   "cell_type": "code",
   "execution_count": 9,
   "id": "0346760d",
   "metadata": {
    "scrolled": true
   },
   "outputs": [],
   "source": [
    "# Fillout NAs\n",
    "\n",
    "# ['competition_distance'] -> NA can means there is no competitor store near. \n",
    "# Filling with the highest value (75860)\n",
    "df2['competition_distance'] = df2['competition_distance'].apply( lambda x: 75860 if math.isnan(x) else x )\n",
    "\n",
    "# ['competition_open_since_(month/year)']\n",
    "# Filling with the month/year of sale's date ('date'.month / 'date'.year)\n",
    "df2['competition_open_since_month'] = df2.apply( lambda x: x['date'].month if math.isnan(x['competition_open_since_month']) else x['competition_open_since_month'], axis=1)\n",
    "df2['competition_open_since_year']  = df2.apply( lambda x: x['date'].year if math.isnan(x['competition_open_since_year']) else x['competition_open_since_year'], axis=1)\n",
    "\n",
    "# ['promo2_since_(year/week)'] -> NA occur when store is not participating to 'promo2' (promo2 == 0)\n",
    "# Filling with the year/week of sale's date ('date'.year / 'date'.week)\n",
    "df2['promo2_since_year'] = df2.apply( lambda x: x['date'].year if math.isnan(x['promo2_since_year']) else x['promo2_since_year'], axis=1)\n",
    "df2['promo2_since_week'] = df2.apply( lambda x: x['date'].week if math.isnan(x['promo2_since_week']) else x['promo2_since_week'], axis=1)\n",
    "\n",
    "# ['promo_interval'] -> NA occur when store is not participating to 'promo2' (promo2 == 0)\n",
    "# Filling with zero \n",
    "df2['promo_interval'].fillna(0, inplace=True)"
   ]
  },
  {
   "cell_type": "markdown",
   "id": "1b582a05",
   "metadata": {},
   "source": [
    "### 3.3. Construct data"
   ]
  },
  {
   "cell_type": "code",
   "execution_count": 10,
   "id": "d8220748",
   "metadata": {},
   "outputs": [],
   "source": [
    "# Dataset\n",
    "df3 = df2.copy()\n",
    "\n",
    "# Deriving 'date' of sale\n",
    "df3['year']  = df3['date'].apply( lambda x: x.year )\n",
    "df3['month'] = df3['date'].apply( lambda x: x.month )\n",
    "df3['day']   = df3['date'].apply( lambda x: x.day )\n",
    "\n",
    "# Deriving 'competition_open_since_(month/year)' to indicate the time of competition related to date of sale\n",
    "df3['competition_open_since'] = df3.apply(lambda x: datetime.datetime(\n",
    "    day=1,\n",
    "    month= int(x['competition_open_since_month']),\n",
    "    year= int(x['competition_open_since_year'])), axis=1 )\n",
    "df3['competition_time'] = df3['competition_open_since'] - df3['date']\n",
    "\n",
    "# Deriving 'promo2_since_(week/year)' to indicate the time of participation in the promo2 related to date of sale\n",
    "df3['promo2_since'] = df3.apply( lambda x: str(int(x['promo2_since_year'])) + '-' + str(int(x['promo2_since_week'])), axis=1 )\n",
    "df3['promo2_since'] = df3.apply( lambda x: datetime.datetime.strptime( x['promo2_since']+'-1', '%Y-%W-%w' ), axis=1 )\n",
    "df3['promo2_time'] = df3['promo2_since'] - df3['date']\n",
    "\n",
    "# Deriving 'promo_interval' to indicate if promo2 was activated on date of sale\n",
    "dict_promo_interval = {'Jan,Apr,Jul,Oct':  [1, 4, 7, 10],\n",
    "                       'Feb,May,Aug,Nov':  [2, 5, 8, 11],\n",
    "                       'Mar,Jun,Sept,Dec': [3, 6, 9, 12],\n",
    "                       0: [0]}\n",
    "df3['promo_interval'] = df3['promo_interval'].map(dict_promo_interval)\n",
    "df3['promo2_activated'] = df3.apply( lambda x: 1 if ( x['month'] in x['promo_interval'] ) else 0, axis=1 )\n",
    "\n",
    "# Dropping attributes that have been replaced by derived variables\n",
    "cols_to_drop = ['competition_open_since_month','competition_open_since_year', 'competition_open_since',\n",
    "                'promo2_since_week', 'promo2_since_year', 'promo2_since', 'promo_interval']\n",
    "df3.drop(cols_to_drop, axis=1, inplace=True)"
   ]
  },
  {
   "cell_type": "markdown",
   "id": "e3180101",
   "metadata": {},
   "source": [
    "### 3.4. Format data"
   ]
  },
  {
   "cell_type": "code",
   "execution_count": 11,
   "id": "933c16da",
   "metadata": {},
   "outputs": [
    {
     "data": {
      "text/plain": [
       "store                             int64\n",
       "sales                             int64\n",
       "date                     datetime64[ns]\n",
       "year                              int64\n",
       "month                             int64\n",
       "day                               int64\n",
       "day_of_week                       int64\n",
       "state_holiday                    object\n",
       "school_holiday                    int64\n",
       "store_type                       object\n",
       "assortment                       object\n",
       "competition_distance            float64\n",
       "competition_time        timedelta64[ns]\n",
       "promo                             int64\n",
       "promo2                            int64\n",
       "promo2_time             timedelta64[ns]\n",
       "promo2_activated                  int64\n",
       "dtype: object"
      ]
     },
     "execution_count": 11,
     "metadata": {},
     "output_type": "execute_result"
    }
   ],
   "source": [
    "# Reorganizing dataset\n",
    "df4 = df3.copy()\n",
    "df4 = df4[['store', 'sales', 'date', 'year', 'month', 'day', 'day_of_week', 'state_holiday',\n",
    "           'school_holiday', 'store_type', 'assortment', 'competition_distance', 'competition_time',\n",
    "           'promo', 'promo2', 'promo2_time', 'promo2_activated']]\n",
    "\n",
    "#Verifying types\n",
    "df4.dtypes"
   ]
  },
  {
   "cell_type": "code",
   "execution_count": 12,
   "id": "e2cd53d1",
   "metadata": {},
   "outputs": [],
   "source": [
    "# Changing data type - converting timedelta to integer\n",
    "df4['competition_time'] = df4['competition_time'].apply( lambda x: int(x.days) )\n",
    "df4['promo2_time'] = df4['promo2_time'].apply( lambda x: int(x.days) )"
   ]
  },
  {
   "cell_type": "markdown",
   "id": "ef2eb801",
   "metadata": {},
   "source": [
    "### 3.5. Rescaling"
   ]
  },
  {
   "cell_type": "code",
   "execution_count": 13,
   "id": "e32a9fe6",
   "metadata": {},
   "outputs": [],
   "source": [
    "# Dataset\n",
    "df5 = df4.copy()\n",
    "\n",
    "# Robust Scaler\n",
    "robust_scaler = RobustScaler()\n",
    "df5[['competition_distance', 'competition_time', 'promo2_time']] = robust_scaler.fit_transform( df5[['competition_distance', 'competition_time', 'promo2_time']] )\n",
    "\n",
    "# Min Max Scaler\n",
    "minmax_scaler = MinMaxScaler()\n",
    "df5['year'] = minmax_scaler.fit_transform( df5['year'].values.reshape(-1,1) )"
   ]
  },
  {
   "cell_type": "markdown",
   "id": "a65cf3ef",
   "metadata": {},
   "source": [
    "### 3.6. Encoding"
   ]
  },
  {
   "cell_type": "code",
   "execution_count": 14,
   "id": "074af03a",
   "metadata": {},
   "outputs": [],
   "source": [
    "# 'state_holiday' - one hot encoding\n",
    "df5 = pd.get_dummies( df5, prefix=['state_holiday'], columns=['state_holiday'])\n",
    "\n",
    "# 'store_type' - label encoding\n",
    "df5['store_type'] = LabelEncoder().fit_transform( df5['store_type'] )\n",
    "\n",
    "# 'assortment' - ordinal encoding\n",
    "assortment_dict = {'a':1, 'b':2, 'c':3}\n",
    "df5['assortment'] = df5['assortment'].map(assortment_dict)"
   ]
  },
  {
   "cell_type": "markdown",
   "id": "2f88a979",
   "metadata": {},
   "source": [
    "### 3.7. Transformations"
   ]
  },
  {
   "cell_type": "code",
   "execution_count": 15,
   "id": "2cd55ed3",
   "metadata": {},
   "outputs": [],
   "source": [
    "# Logarithmic Transformation\n",
    "df5['sales'] = np.log1p( df5['sales'] )"
   ]
  },
  {
   "cell_type": "code",
   "execution_count": 16,
   "id": "3322e2c1",
   "metadata": {},
   "outputs": [],
   "source": [
    "# Cyclic Transformation \n",
    "df5['month_sin'] = df5['month'].apply( lambda x: np.sin( x * ( 2. * np.pi/12) ) ) \n",
    "df5['month_cos'] = df5['month'].apply( lambda x: np.cos( x * ( 2. * np.pi/12) ) )\n",
    "\n",
    "df5['day_sin'] = df5['day'].apply( lambda x: np.sin( x * ( 2. * np.pi/31) ) ) \n",
    "df5['day_cos'] = df5['day'].apply( lambda x: np.cos( x * ( 2. * np.pi/31) ) ) \n",
    "\n",
    "df5['day_of_week_sin'] = df5['day_of_week'].apply( lambda x: np.sin( x * ( 2. * np.pi/7) ) ) \n",
    "df5['day_of_week_cos'] = df5['day_of_week'].apply( lambda x: np.cos( x * ( 2. * np.pi/7) ) ) \n",
    "\n",
    "# Dropping cyclically transformed attributes\n",
    "df5.drop(['month', 'day', 'day_of_week'], axis=1, inplace=True)"
   ]
  },
  {
   "cell_type": "markdown",
   "id": "13663155",
   "metadata": {},
   "source": [
    "# 4. MODELING"
   ]
  },
  {
   "cell_type": "markdown",
   "id": "d5ea1194",
   "metadata": {},
   "source": [
    "### 4.1. Split dataset into train and test"
   ]
  },
  {
   "cell_type": "code",
   "execution_count": 17,
   "id": "e6adceae",
   "metadata": {},
   "outputs": [],
   "source": [
    "# Sort dataset by date in ascending order\n",
    "df6 = df5.copy()\n",
    "df6 = df6.sort_values(by='date', ascending=True).reset_index(drop=True)\n",
    "\n",
    "# Separate the data from the last 6 weeks for test dataset and the others for training dataset\n",
    "date_start_last_6_weeks = df6['date'].max() - datetime.timedelta(days=6*7)\n",
    "\n",
    "df6_train = df6[ df6['date'] < date_start_last_6_weeks ]\n",
    "\n",
    "df6_test = df6[ df6['date'] >= date_start_last_6_weeks ]\n",
    "\n",
    "X_train = df6_train.drop(['sales', 'date'], axis=1)\n",
    "y_train = df6_train['sales']\n",
    "\n",
    "X_test = df6_test.drop(['sales', 'date'], axis=1)\n",
    "y_test = df6_test['sales']"
   ]
  },
  {
   "cell_type": "markdown",
   "id": "2183a7d3",
   "metadata": {},
   "source": [
    "### 4.2. Feature Selector - Boruta"
   ]
  },
  {
   "cell_type": "code",
   "execution_count": 18,
   "id": "aa4b6571",
   "metadata": {},
   "outputs": [],
   "source": [
    "## Training and test dataset for Boruta\n",
    "#X_train_boruta = X_train.values\n",
    "#y_train_boruta = y_train.values.ravel()\n",
    "#\n",
    "## Defining Random Forest Regressor\n",
    "#rf = RandomForestRegressor( n_jobs=-1 )\n",
    "#\n",
    "## Defining Boruta\n",
    "#boruta = BorutaPy( rf, n_estimators='auto', verbose=2, random_state=42 ).fit( X_train_boruta, y_train_boruta )"
   ]
  },
  {
   "cell_type": "code",
   "execution_count": 19,
   "id": "a188302f",
   "metadata": {},
   "outputs": [],
   "source": [
    "## Best features\n",
    "#cols_selected = boruta.support_.tolist()\n",
    "#\n",
    "#cols_selected_boruta = X_train.iloc[:, cols_selected].columns.tolist()\n",
    "#\n",
    "## Features not selected\n",
    "#cols_not_selected_boruta = list( np.setdiff1d( X_train.columns, cols_selected_boruta) )"
   ]
  },
  {
   "cell_type": "code",
   "execution_count": 20,
   "id": "9569974d",
   "metadata": {},
   "outputs": [],
   "source": [
    "#cols_selected_boruta"
   ]
  },
  {
   "cell_type": "code",
   "execution_count": 21,
   "id": "8cf917e8",
   "metadata": {},
   "outputs": [],
   "source": [
    "cols_selected_boruta = ['store',\n",
    "                        'store_type',\n",
    "                        'assortment',\n",
    "                        'competition_distance',\n",
    "                        'competition_time',\n",
    "                        'promo',\n",
    "                        'promo2',\n",
    "                        'promo2_time',\n",
    "                        'month_cos',\n",
    "                        'day_sin',\n",
    "                        'day_cos',\n",
    "                        'day_of_week_sin',\n",
    "                        'day_of_week_cos']\n",
    "                    \n",
    "X_train = X_train[ cols_selected_boruta ]\n",
    "X_test = X_test[ cols_selected_boruta ]"
   ]
  },
  {
   "cell_type": "markdown",
   "id": "af34a012",
   "metadata": {},
   "source": [
    "### 4.3. Build models"
   ]
  },
  {
   "cell_type": "markdown",
   "id": "92c46d53",
   "metadata": {},
   "source": [
    "Training 5 models, with and without cross validation:\n",
    "\n",
    "    1. Average (baseline model)\n",
    "    2. Linear Regression \n",
    "    3. Linear Regression Regularized\n",
    "    4. Random Forest Regressor\n",
    "    5. XGBoost Regressor    "
   ]
  },
  {
   "cell_type": "code",
   "execution_count": 22,
   "id": "3cb0587a",
   "metadata": {},
   "outputs": [],
   "source": [
    "# Model's Performance Function\n",
    "def ml_error(model_name,y,yhat):\n",
    "    mae = mean_absolute_error(y,yhat)\n",
    "    mape = mean_absolute_percentage_error(y,yhat)\n",
    "    rmse = np.sqrt(mean_squared_error(y,yhat))\n",
    "    return pd.DataFrame({'Model Name': model_name,\n",
    "                         'MAE': mae,\n",
    "                         'MAPE': mape,\n",
    "                         'RMSE': rmse}, index=[0])\n",
    "\n",
    "# Cross Validation Function with Time Series Split\n",
    "def cross_validation(x_training, y_training, kfold, model_name, model, verbose=False):\n",
    "    mae_list = []\n",
    "    mape_list = []\n",
    "    rmse_list = []\n",
    "    tscv = TimeSeriesSplit(n_splits=kfold)\n",
    "    for fold, (train_index, test_index) in enumerate(tscv.split(x_training)):\n",
    "        print('FOLD:', fold)\n",
    "        print('TRAIN:', train_index)\n",
    "        print('TEST:', test_index)\n",
    "        x_training_cv   = x_training.iloc[train_index]\n",
    "        y_training_cv   = y_training.iloc[train_index]\n",
    "        x_validation_cv = x_training.iloc[test_index]\n",
    "        y_validation_cv = y_training.iloc[test_index]\n",
    "        \n",
    "        # model\n",
    "        m = model.fit(x_training_cv, y_training_cv)\n",
    "        # predict\n",
    "        yhat = m.predict(x_validation_cv)\n",
    "        # performance\n",
    "        m_result = ml_error(model_name, np.expm1(y_validation_cv), np.expm1(yhat))\n",
    "        # store performance of each Kfolds iteration\n",
    "        mae_list.append(m_result['MAE'])\n",
    "        mape_list.append(m_result['MAPE'])\n",
    "        rmse_list.append(m_result['RMSE'])\n",
    "    return pd.DataFrame({'Model Name': model_name,\n",
    "                         'MAE CV':  np.round(np.mean(mae_list),2).astype(str) + '+/-' +  np.round(np.std(mae_list),2).astype(str),\n",
    "                         'MAPE CV':  np.round(np.mean(mape_list),2).astype(str) + '+/-' +  np.round(np.std(mape_list),2).astype(str),\n",
    "                         'RMSE CV':  np.round(np.mean(rmse_list),2).astype(str) + '+/-' +  np.round(np.std(rmse_list),2).astype(str)},index=[0])"
   ]
  },
  {
   "cell_type": "markdown",
   "id": "1c03058a",
   "metadata": {},
   "source": [
    "### 4.3.1. Average"
   ]
  },
  {
   "cell_type": "code",
   "execution_count": 23,
   "id": "3c374a4c",
   "metadata": {},
   "outputs": [
    {
     "data": {
      "text/html": [
       "<div>\n",
       "<style scoped>\n",
       "    .dataframe tbody tr th:only-of-type {\n",
       "        vertical-align: middle;\n",
       "    }\n",
       "\n",
       "    .dataframe tbody tr th {\n",
       "        vertical-align: top;\n",
       "    }\n",
       "\n",
       "    .dataframe thead th {\n",
       "        text-align: right;\n",
       "    }\n",
       "</style>\n",
       "<table border=\"1\" class=\"dataframe\">\n",
       "  <thead>\n",
       "    <tr style=\"text-align: right;\">\n",
       "      <th></th>\n",
       "      <th>Model Name</th>\n",
       "      <th>MAE</th>\n",
       "      <th>MAPE</th>\n",
       "      <th>RMSE</th>\n",
       "    </tr>\n",
       "  </thead>\n",
       "  <tbody>\n",
       "    <tr>\n",
       "      <th>0</th>\n",
       "      <td>Average Model</td>\n",
       "      <td>1354.800353</td>\n",
       "      <td>0.2064</td>\n",
       "      <td>1835.135542</td>\n",
       "    </tr>\n",
       "  </tbody>\n",
       "</table>\n",
       "</div>"
      ],
      "text/plain": [
       "      Model Name          MAE    MAPE         RMSE\n",
       "0  Average Model  1354.800353  0.2064  1835.135542"
      ]
     },
     "execution_count": 23,
     "metadata": {},
     "output_type": "execute_result"
    }
   ],
   "source": [
    "# Model\n",
    "aux = df6_test[['store','sales']].groupby('store').mean().reset_index().rename(columns={'sales':'predictions'})\n",
    "aux = pd.merge(df6_test, aux, how='left', on='store')\n",
    "\n",
    "# Prediction\n",
    "yhat_baseline = aux['predictions']\n",
    "\n",
    "# Performance\n",
    "baseline_result = ml_error('Average Model',np.expm1(y_test),np.expm1(yhat_baseline))\n",
    "baseline_result"
   ]
  },
  {
   "cell_type": "markdown",
   "id": "57ce3176",
   "metadata": {},
   "source": [
    "### 4.3.2. Linear Regression"
   ]
  },
  {
   "cell_type": "code",
   "execution_count": 24,
   "id": "67b7fcfe",
   "metadata": {},
   "outputs": [
    {
     "data": {
      "text/html": [
       "<div>\n",
       "<style scoped>\n",
       "    .dataframe tbody tr th:only-of-type {\n",
       "        vertical-align: middle;\n",
       "    }\n",
       "\n",
       "    .dataframe tbody tr th {\n",
       "        vertical-align: top;\n",
       "    }\n",
       "\n",
       "    .dataframe thead th {\n",
       "        text-align: right;\n",
       "    }\n",
       "</style>\n",
       "<table border=\"1\" class=\"dataframe\">\n",
       "  <thead>\n",
       "    <tr style=\"text-align: right;\">\n",
       "      <th></th>\n",
       "      <th>Model Name</th>\n",
       "      <th>MAE</th>\n",
       "      <th>MAPE</th>\n",
       "      <th>RMSE</th>\n",
       "    </tr>\n",
       "  </thead>\n",
       "  <tbody>\n",
       "    <tr>\n",
       "      <th>0</th>\n",
       "      <td>Linear Regression</td>\n",
       "      <td>1883.242201</td>\n",
       "      <td>0.285873</td>\n",
       "      <td>2728.033928</td>\n",
       "    </tr>\n",
       "  </tbody>\n",
       "</table>\n",
       "</div>"
      ],
      "text/plain": [
       "          Model Name          MAE      MAPE         RMSE\n",
       "0  Linear Regression  1883.242201  0.285873  2728.033928"
      ]
     },
     "execution_count": 24,
     "metadata": {},
     "output_type": "execute_result"
    }
   ],
   "source": [
    "# Model\n",
    "lr = LinearRegression().fit( X_train, y_train )\n",
    "\n",
    "# Prediction\n",
    "yhat_lr = lr.predict( X_test )\n",
    "\n",
    "# Performance\n",
    "lr_result = ml_error('Linear Regression',np.expm1(y_test),np.expm1(yhat_lr))\n",
    "lr_result"
   ]
  },
  {
   "cell_type": "code",
   "execution_count": 25,
   "id": "6f8e5c37",
   "metadata": {},
   "outputs": [
    {
     "name": "stdout",
     "output_type": "stream",
     "text": [
      "FOLD: 0\n",
      "TRAIN: [     0      1      2 ... 133824 133825 133826]\n",
      "TEST: [133827 133828 133829 ... 267647 267648 267649]\n",
      "FOLD: 1\n",
      "TRAIN: [     0      1      2 ... 267647 267648 267649]\n",
      "TEST: [267650 267651 267652 ... 401470 401471 401472]\n",
      "FOLD: 2\n",
      "TRAIN: [     0      1      2 ... 401470 401471 401472]\n",
      "TEST: [401473 401474 401475 ... 535293 535294 535295]\n",
      "FOLD: 3\n",
      "TRAIN: [     0      1      2 ... 535293 535294 535295]\n",
      "TEST: [535296 535297 535298 ... 669116 669117 669118]\n",
      "FOLD: 4\n",
      "TRAIN: [     0      1      2 ... 669116 669117 669118]\n",
      "TEST: [669119 669120 669121 ... 802939 802940 802941]\n"
     ]
    },
    {
     "data": {
      "text/html": [
       "<div>\n",
       "<style scoped>\n",
       "    .dataframe tbody tr th:only-of-type {\n",
       "        vertical-align: middle;\n",
       "    }\n",
       "\n",
       "    .dataframe tbody tr th {\n",
       "        vertical-align: top;\n",
       "    }\n",
       "\n",
       "    .dataframe thead th {\n",
       "        text-align: right;\n",
       "    }\n",
       "</style>\n",
       "<table border=\"1\" class=\"dataframe\">\n",
       "  <thead>\n",
       "    <tr style=\"text-align: right;\">\n",
       "      <th></th>\n",
       "      <th>Model Name</th>\n",
       "      <th>MAE CV</th>\n",
       "      <th>MAPE CV</th>\n",
       "      <th>RMSE CV</th>\n",
       "    </tr>\n",
       "  </thead>\n",
       "  <tbody>\n",
       "    <tr>\n",
       "      <th>0</th>\n",
       "      <td>Linear Regression</td>\n",
       "      <td>2002.3+/-95.97</td>\n",
       "      <td>0.3+/-0.01</td>\n",
       "      <td>2895.62+/-185.92</td>\n",
       "    </tr>\n",
       "  </tbody>\n",
       "</table>\n",
       "</div>"
      ],
      "text/plain": [
       "          Model Name          MAE CV     MAPE CV           RMSE CV\n",
       "0  Linear Regression  2002.3+/-95.97  0.3+/-0.01  2895.62+/-185.92"
      ]
     },
     "execution_count": 25,
     "metadata": {},
     "output_type": "execute_result"
    }
   ],
   "source": [
    "# Performance with Cross Validation\n",
    "lr_result_cv = cross_validation(X_train, y_train, 5, 'Linear Regression', lr, verbose=False)\n",
    "lr_result_cv"
   ]
  },
  {
   "cell_type": "markdown",
   "id": "d29febda",
   "metadata": {},
   "source": [
    "### 4.3.3. Linear  Regression Regularized"
   ]
  },
  {
   "cell_type": "code",
   "execution_count": 26,
   "id": "6b934f30",
   "metadata": {},
   "outputs": [
    {
     "data": {
      "text/html": [
       "<div>\n",
       "<style scoped>\n",
       "    .dataframe tbody tr th:only-of-type {\n",
       "        vertical-align: middle;\n",
       "    }\n",
       "\n",
       "    .dataframe tbody tr th {\n",
       "        vertical-align: top;\n",
       "    }\n",
       "\n",
       "    .dataframe thead th {\n",
       "        text-align: right;\n",
       "    }\n",
       "</style>\n",
       "<table border=\"1\" class=\"dataframe\">\n",
       "  <thead>\n",
       "    <tr style=\"text-align: right;\">\n",
       "      <th></th>\n",
       "      <th>Model Name</th>\n",
       "      <th>MAE</th>\n",
       "      <th>MAPE</th>\n",
       "      <th>RMSE</th>\n",
       "    </tr>\n",
       "  </thead>\n",
       "  <tbody>\n",
       "    <tr>\n",
       "      <th>0</th>\n",
       "      <td>Linear Regression - Lasso</td>\n",
       "      <td>1902.27378</td>\n",
       "      <td>0.288974</td>\n",
       "      <td>2766.81268</td>\n",
       "    </tr>\n",
       "  </tbody>\n",
       "</table>\n",
       "</div>"
      ],
      "text/plain": [
       "                  Model Name         MAE      MAPE        RMSE\n",
       "0  Linear Regression - Lasso  1902.27378  0.288974  2766.81268"
      ]
     },
     "execution_count": 26,
     "metadata": {},
     "output_type": "execute_result"
    }
   ],
   "source": [
    "# Model\n",
    "lrr = Lasso(alpha=0.01).fit( X_train, y_train )\n",
    "\n",
    "# Prediction\n",
    "yhat_lrr = lrr.predict( X_test )\n",
    "\n",
    "# Performance\n",
    "lrr_result = ml_error('Linear Regression - Lasso', np.expm1(y_test), np.expm1(yhat_lrr))\n",
    "lrr_result"
   ]
  },
  {
   "cell_type": "code",
   "execution_count": 27,
   "id": "176693c4",
   "metadata": {},
   "outputs": [
    {
     "name": "stdout",
     "output_type": "stream",
     "text": [
      "FOLD: 0\n",
      "TRAIN: [     0      1      2 ... 133824 133825 133826]\n",
      "TEST: [133827 133828 133829 ... 267647 267648 267649]\n",
      "FOLD: 1\n",
      "TRAIN: [     0      1      2 ... 267647 267648 267649]\n",
      "TEST: [267650 267651 267652 ... 401470 401471 401472]\n",
      "FOLD: 2\n",
      "TRAIN: [     0      1      2 ... 401470 401471 401472]\n",
      "TEST: [401473 401474 401475 ... 535293 535294 535295]\n",
      "FOLD: 3\n",
      "TRAIN: [     0      1      2 ... 535293 535294 535295]\n",
      "TEST: [535296 535297 535298 ... 669116 669117 669118]\n",
      "FOLD: 4\n",
      "TRAIN: [     0      1      2 ... 669116 669117 669118]\n",
      "TEST: [669119 669120 669121 ... 802939 802940 802941]\n"
     ]
    },
    {
     "data": {
      "text/html": [
       "<div>\n",
       "<style scoped>\n",
       "    .dataframe tbody tr th:only-of-type {\n",
       "        vertical-align: middle;\n",
       "    }\n",
       "\n",
       "    .dataframe tbody tr th {\n",
       "        vertical-align: top;\n",
       "    }\n",
       "\n",
       "    .dataframe thead th {\n",
       "        text-align: right;\n",
       "    }\n",
       "</style>\n",
       "<table border=\"1\" class=\"dataframe\">\n",
       "  <thead>\n",
       "    <tr style=\"text-align: right;\">\n",
       "      <th></th>\n",
       "      <th>Model Name</th>\n",
       "      <th>MAE CV</th>\n",
       "      <th>MAPE CV</th>\n",
       "      <th>RMSE CV</th>\n",
       "    </tr>\n",
       "  </thead>\n",
       "  <tbody>\n",
       "    <tr>\n",
       "      <th>0</th>\n",
       "      <td>Linear Regression - Lasso</td>\n",
       "      <td>2014.92+/-93.43</td>\n",
       "      <td>0.3+/-0.01</td>\n",
       "      <td>2931.42+/-171.86</td>\n",
       "    </tr>\n",
       "  </tbody>\n",
       "</table>\n",
       "</div>"
      ],
      "text/plain": [
       "                  Model Name           MAE CV     MAPE CV           RMSE CV\n",
       "0  Linear Regression - Lasso  2014.92+/-93.43  0.3+/-0.01  2931.42+/-171.86"
      ]
     },
     "execution_count": 27,
     "metadata": {},
     "output_type": "execute_result"
    }
   ],
   "source": [
    "# Performance with Cross Validation\n",
    "lrr_result_cv = cross_validation(X_train, y_train, 5, 'Linear Regression - Lasso', lrr, verbose=False)\n",
    "lrr_result_cv"
   ]
  },
  {
   "cell_type": "markdown",
   "id": "cf71ee22",
   "metadata": {},
   "source": [
    "### 4.3.4. Random Forest Regressor"
   ]
  },
  {
   "cell_type": "code",
   "execution_count": 28,
   "id": "a7217e16",
   "metadata": {},
   "outputs": [
    {
     "data": {
      "text/html": [
       "<div>\n",
       "<style scoped>\n",
       "    .dataframe tbody tr th:only-of-type {\n",
       "        vertical-align: middle;\n",
       "    }\n",
       "\n",
       "    .dataframe tbody tr th {\n",
       "        vertical-align: top;\n",
       "    }\n",
       "\n",
       "    .dataframe thead th {\n",
       "        text-align: right;\n",
       "    }\n",
       "</style>\n",
       "<table border=\"1\" class=\"dataframe\">\n",
       "  <thead>\n",
       "    <tr style=\"text-align: right;\">\n",
       "      <th></th>\n",
       "      <th>Model Name</th>\n",
       "      <th>MAE</th>\n",
       "      <th>MAPE</th>\n",
       "      <th>RMSE</th>\n",
       "    </tr>\n",
       "  </thead>\n",
       "  <tbody>\n",
       "    <tr>\n",
       "      <th>0</th>\n",
       "      <td>Random Forest Regressor</td>\n",
       "      <td>809.573678</td>\n",
       "      <td>0.12109</td>\n",
       "      <td>1185.421156</td>\n",
       "    </tr>\n",
       "  </tbody>\n",
       "</table>\n",
       "</div>"
      ],
      "text/plain": [
       "                Model Name         MAE     MAPE         RMSE\n",
       "0  Random Forest Regressor  809.573678  0.12109  1185.421156"
      ]
     },
     "execution_count": 28,
     "metadata": {},
     "output_type": "execute_result"
    }
   ],
   "source": [
    "# Model\n",
    "rf = RandomForestRegressor( n_estimators=100, n_jobs=-1, random_state=42 ).fit( X_train, y_train )\n",
    "\n",
    "# Prediction\n",
    "yhat_rf = rf.predict( X_test )\n",
    "\n",
    "# Performance\n",
    "rf_result = ml_error('Random Forest Regressor', np.expm1(y_test), np.expm1(yhat_rf))\n",
    "rf_result"
   ]
  },
  {
   "cell_type": "code",
   "execution_count": 29,
   "id": "ff115dd8",
   "metadata": {},
   "outputs": [
    {
     "name": "stdout",
     "output_type": "stream",
     "text": [
      "FOLD: 0\n",
      "TRAIN: [     0      1      2 ... 133824 133825 133826]\n",
      "TEST: [133827 133828 133829 ... 267647 267648 267649]\n",
      "FOLD: 1\n",
      "TRAIN: [     0      1      2 ... 267647 267648 267649]\n",
      "TEST: [267650 267651 267652 ... 401470 401471 401472]\n",
      "FOLD: 2\n",
      "TRAIN: [     0      1      2 ... 401470 401471 401472]\n",
      "TEST: [401473 401474 401475 ... 535293 535294 535295]\n",
      "FOLD: 3\n",
      "TRAIN: [     0      1      2 ... 535293 535294 535295]\n",
      "TEST: [535296 535297 535298 ... 669116 669117 669118]\n",
      "FOLD: 4\n",
      "TRAIN: [     0      1      2 ... 669116 669117 669118]\n",
      "TEST: [669119 669120 669121 ... 802939 802940 802941]\n"
     ]
    },
    {
     "data": {
      "text/html": [
       "<div>\n",
       "<style scoped>\n",
       "    .dataframe tbody tr th:only-of-type {\n",
       "        vertical-align: middle;\n",
       "    }\n",
       "\n",
       "    .dataframe tbody tr th {\n",
       "        vertical-align: top;\n",
       "    }\n",
       "\n",
       "    .dataframe thead th {\n",
       "        text-align: right;\n",
       "    }\n",
       "</style>\n",
       "<table border=\"1\" class=\"dataframe\">\n",
       "  <thead>\n",
       "    <tr style=\"text-align: right;\">\n",
       "      <th></th>\n",
       "      <th>Model Name</th>\n",
       "      <th>MAE CV</th>\n",
       "      <th>MAPE CV</th>\n",
       "      <th>RMSE CV</th>\n",
       "    </tr>\n",
       "  </thead>\n",
       "  <tbody>\n",
       "    <tr>\n",
       "      <th>0</th>\n",
       "      <td>Random Forest Regressor</td>\n",
       "      <td>967.02+/-89.5</td>\n",
       "      <td>0.14+/-0.01</td>\n",
       "      <td>1521.67+/-184.72</td>\n",
       "    </tr>\n",
       "  </tbody>\n",
       "</table>\n",
       "</div>"
      ],
      "text/plain": [
       "                Model Name         MAE CV      MAPE CV           RMSE CV\n",
       "0  Random Forest Regressor  967.02+/-89.5  0.14+/-0.01  1521.67+/-184.72"
      ]
     },
     "execution_count": 29,
     "metadata": {},
     "output_type": "execute_result"
    }
   ],
   "source": [
    "# Performance with Cross Validation\n",
    "rf_result_cv = cross_validation(X_train, y_train, 5, 'Random Forest Regressor', rf, verbose=False)\n",
    "rf_result_cv"
   ]
  },
  {
   "cell_type": "markdown",
   "id": "3522b521",
   "metadata": {},
   "source": [
    "### 4.3.5. XGBoost Regressor"
   ]
  },
  {
   "cell_type": "code",
   "execution_count": 30,
   "id": "3c65efb4",
   "metadata": {},
   "outputs": [
    {
     "data": {
      "text/html": [
       "<div>\n",
       "<style scoped>\n",
       "    .dataframe tbody tr th:only-of-type {\n",
       "        vertical-align: middle;\n",
       "    }\n",
       "\n",
       "    .dataframe tbody tr th {\n",
       "        vertical-align: top;\n",
       "    }\n",
       "\n",
       "    .dataframe thead th {\n",
       "        text-align: right;\n",
       "    }\n",
       "</style>\n",
       "<table border=\"1\" class=\"dataframe\">\n",
       "  <thead>\n",
       "    <tr style=\"text-align: right;\">\n",
       "      <th></th>\n",
       "      <th>Model Name</th>\n",
       "      <th>MAE</th>\n",
       "      <th>MAPE</th>\n",
       "      <th>RMSE</th>\n",
       "    </tr>\n",
       "  </thead>\n",
       "  <tbody>\n",
       "    <tr>\n",
       "      <th>0</th>\n",
       "      <td>XGBoost Regressor</td>\n",
       "      <td>985.525105</td>\n",
       "      <td>0.147414</td>\n",
       "      <td>1411.48391</td>\n",
       "    </tr>\n",
       "  </tbody>\n",
       "</table>\n",
       "</div>"
      ],
      "text/plain": [
       "          Model Name         MAE      MAPE        RMSE\n",
       "0  XGBoost Regressor  985.525105  0.147414  1411.48391"
      ]
     },
     "execution_count": 30,
     "metadata": {},
     "output_type": "execute_result"
    }
   ],
   "source": [
    "# Model\n",
    "model_xgb = xgb.XGBRegressor().fit(X_train, y_train)\n",
    "\n",
    "# Prediction\n",
    "yhat_xgb = model_xgb.predict( X_test )\n",
    "\n",
    "# Performance\n",
    "xgb_result = ml_error('XGBoost Regressor', np.expm1(y_test), np.expm1(yhat_xgb))\n",
    "xgb_result"
   ]
  },
  {
   "cell_type": "code",
   "execution_count": 31,
   "id": "6f33ea0c",
   "metadata": {},
   "outputs": [
    {
     "name": "stdout",
     "output_type": "stream",
     "text": [
      "FOLD: 0\n",
      "TRAIN: [     0      1      2 ... 133824 133825 133826]\n",
      "TEST: [133827 133828 133829 ... 267647 267648 267649]\n",
      "FOLD: 1\n",
      "TRAIN: [     0      1      2 ... 267647 267648 267649]\n",
      "TEST: [267650 267651 267652 ... 401470 401471 401472]\n",
      "FOLD: 2\n",
      "TRAIN: [     0      1      2 ... 401470 401471 401472]\n",
      "TEST: [401473 401474 401475 ... 535293 535294 535295]\n",
      "FOLD: 3\n",
      "TRAIN: [     0      1      2 ... 535293 535294 535295]\n",
      "TEST: [535296 535297 535298 ... 669116 669117 669118]\n",
      "FOLD: 4\n",
      "TRAIN: [     0      1      2 ... 669116 669117 669118]\n",
      "TEST: [669119 669120 669121 ... 802939 802940 802941]\n"
     ]
    },
    {
     "data": {
      "text/html": [
       "<div>\n",
       "<style scoped>\n",
       "    .dataframe tbody tr th:only-of-type {\n",
       "        vertical-align: middle;\n",
       "    }\n",
       "\n",
       "    .dataframe tbody tr th {\n",
       "        vertical-align: top;\n",
       "    }\n",
       "\n",
       "    .dataframe thead th {\n",
       "        text-align: right;\n",
       "    }\n",
       "</style>\n",
       "<table border=\"1\" class=\"dataframe\">\n",
       "  <thead>\n",
       "    <tr style=\"text-align: right;\">\n",
       "      <th></th>\n",
       "      <th>Model Name</th>\n",
       "      <th>MAE CV</th>\n",
       "      <th>MAPE CV</th>\n",
       "      <th>RMSE CV</th>\n",
       "    </tr>\n",
       "  </thead>\n",
       "  <tbody>\n",
       "    <tr>\n",
       "      <th>0</th>\n",
       "      <td>XGBoost Regressor</td>\n",
       "      <td>1123.41+/-121.59</td>\n",
       "      <td>0.16+/-0.01</td>\n",
       "      <td>1664.36+/-242.23</td>\n",
       "    </tr>\n",
       "  </tbody>\n",
       "</table>\n",
       "</div>"
      ],
      "text/plain": [
       "          Model Name            MAE CV      MAPE CV           RMSE CV\n",
       "0  XGBoost Regressor  1123.41+/-121.59  0.16+/-0.01  1664.36+/-242.23"
      ]
     },
     "execution_count": 31,
     "metadata": {},
     "output_type": "execute_result"
    }
   ],
   "source": [
    "# Performance with Cross Validation\n",
    "xgb_result_cv = cross_validation(X_train, y_train, 5, 'XGBoost Regressor', model_xgb, verbose=False)\n",
    "xgb_result_cv"
   ]
  },
  {
   "cell_type": "markdown",
   "id": "e7a15bb6",
   "metadata": {},
   "source": [
    "### 4.4. Assess model"
   ]
  },
  {
   "cell_type": "markdown",
   "id": "00795018",
   "metadata": {},
   "source": [
    "### 4.4.1. Compare Single Models Performance"
   ]
  },
  {
   "cell_type": "code",
   "execution_count": 32,
   "id": "59ccb993",
   "metadata": {},
   "outputs": [
    {
     "data": {
      "text/html": [
       "<div>\n",
       "<style scoped>\n",
       "    .dataframe tbody tr th:only-of-type {\n",
       "        vertical-align: middle;\n",
       "    }\n",
       "\n",
       "    .dataframe tbody tr th {\n",
       "        vertical-align: top;\n",
       "    }\n",
       "\n",
       "    .dataframe thead th {\n",
       "        text-align: right;\n",
       "    }\n",
       "</style>\n",
       "<table border=\"1\" class=\"dataframe\">\n",
       "  <thead>\n",
       "    <tr style=\"text-align: right;\">\n",
       "      <th></th>\n",
       "      <th>Model Name</th>\n",
       "      <th>MAE</th>\n",
       "      <th>MAPE</th>\n",
       "      <th>RMSE</th>\n",
       "    </tr>\n",
       "  </thead>\n",
       "  <tbody>\n",
       "    <tr>\n",
       "      <th>0</th>\n",
       "      <td>Random Forest Regressor</td>\n",
       "      <td>809.573678</td>\n",
       "      <td>0.121090</td>\n",
       "      <td>1185.421156</td>\n",
       "    </tr>\n",
       "    <tr>\n",
       "      <th>0</th>\n",
       "      <td>XGBoost Regressor</td>\n",
       "      <td>985.525105</td>\n",
       "      <td>0.147414</td>\n",
       "      <td>1411.483910</td>\n",
       "    </tr>\n",
       "    <tr>\n",
       "      <th>0</th>\n",
       "      <td>Average Model</td>\n",
       "      <td>1354.800353</td>\n",
       "      <td>0.206400</td>\n",
       "      <td>1835.135542</td>\n",
       "    </tr>\n",
       "    <tr>\n",
       "      <th>0</th>\n",
       "      <td>Linear Regression</td>\n",
       "      <td>1883.242201</td>\n",
       "      <td>0.285873</td>\n",
       "      <td>2728.033928</td>\n",
       "    </tr>\n",
       "    <tr>\n",
       "      <th>0</th>\n",
       "      <td>Linear Regression - Lasso</td>\n",
       "      <td>1902.273780</td>\n",
       "      <td>0.288974</td>\n",
       "      <td>2766.812680</td>\n",
       "    </tr>\n",
       "  </tbody>\n",
       "</table>\n",
       "</div>"
      ],
      "text/plain": [
       "                  Model Name          MAE      MAPE         RMSE\n",
       "0    Random Forest Regressor   809.573678  0.121090  1185.421156\n",
       "0          XGBoost Regressor   985.525105  0.147414  1411.483910\n",
       "0              Average Model  1354.800353  0.206400  1835.135542\n",
       "0          Linear Regression  1883.242201  0.285873  2728.033928\n",
       "0  Linear Regression - Lasso  1902.273780  0.288974  2766.812680"
      ]
     },
     "execution_count": 32,
     "metadata": {},
     "output_type": "execute_result"
    }
   ],
   "source": [
    "modelling_result = pd.concat([baseline_result,lr_result,lrr_result,rf_result,xgb_result])\n",
    "modelling_result.sort_values('RMSE')"
   ]
  },
  {
   "cell_type": "markdown",
   "id": "69ef57bf",
   "metadata": {},
   "source": [
    "### 4.4.2. Compare Cross Validated Models Performance"
   ]
  },
  {
   "cell_type": "code",
   "execution_count": 33,
   "id": "28c70b8d",
   "metadata": {},
   "outputs": [
    {
     "data": {
      "text/html": [
       "<div>\n",
       "<style scoped>\n",
       "    .dataframe tbody tr th:only-of-type {\n",
       "        vertical-align: middle;\n",
       "    }\n",
       "\n",
       "    .dataframe tbody tr th {\n",
       "        vertical-align: top;\n",
       "    }\n",
       "\n",
       "    .dataframe thead th {\n",
       "        text-align: right;\n",
       "    }\n",
       "</style>\n",
       "<table border=\"1\" class=\"dataframe\">\n",
       "  <thead>\n",
       "    <tr style=\"text-align: right;\">\n",
       "      <th></th>\n",
       "      <th>Model Name</th>\n",
       "      <th>MAE CV</th>\n",
       "      <th>MAPE CV</th>\n",
       "      <th>RMSE CV</th>\n",
       "    </tr>\n",
       "  </thead>\n",
       "  <tbody>\n",
       "    <tr>\n",
       "      <th>0</th>\n",
       "      <td>Random Forest Regressor</td>\n",
       "      <td>967.02+/-89.5</td>\n",
       "      <td>0.14+/-0.01</td>\n",
       "      <td>1521.67+/-184.72</td>\n",
       "    </tr>\n",
       "    <tr>\n",
       "      <th>0</th>\n",
       "      <td>XGBoost Regressor</td>\n",
       "      <td>1123.41+/-121.59</td>\n",
       "      <td>0.16+/-0.01</td>\n",
       "      <td>1664.36+/-242.23</td>\n",
       "    </tr>\n",
       "    <tr>\n",
       "      <th>0</th>\n",
       "      <td>Linear Regression</td>\n",
       "      <td>2002.3+/-95.97</td>\n",
       "      <td>0.3+/-0.01</td>\n",
       "      <td>2895.62+/-185.92</td>\n",
       "    </tr>\n",
       "    <tr>\n",
       "      <th>0</th>\n",
       "      <td>Linear Regression - Lasso</td>\n",
       "      <td>2014.92+/-93.43</td>\n",
       "      <td>0.3+/-0.01</td>\n",
       "      <td>2931.42+/-171.86</td>\n",
       "    </tr>\n",
       "  </tbody>\n",
       "</table>\n",
       "</div>"
      ],
      "text/plain": [
       "                  Model Name            MAE CV      MAPE CV           RMSE CV\n",
       "0    Random Forest Regressor     967.02+/-89.5  0.14+/-0.01  1521.67+/-184.72\n",
       "0          XGBoost Regressor  1123.41+/-121.59  0.16+/-0.01  1664.36+/-242.23\n",
       "0          Linear Regression    2002.3+/-95.97   0.3+/-0.01  2895.62+/-185.92\n",
       "0  Linear Regression - Lasso   2014.92+/-93.43   0.3+/-0.01  2931.42+/-171.86"
      ]
     },
     "execution_count": 33,
     "metadata": {},
     "output_type": "execute_result"
    }
   ],
   "source": [
    "modelling_result_cv = pd.concat([lr_result_cv,lrr_result_cv,rf_result_cv,xgb_result_cv])\n",
    "modelling_result_cv.sort_values('RMSE CV')"
   ]
  },
  {
   "cell_type": "markdown",
   "id": "a0cdae36",
   "metadata": {},
   "source": [
    "### 4.4.3. Chosen Model -> XGBoost Regressor"
   ]
  },
  {
   "cell_type": "markdown",
   "id": "acaad02b",
   "metadata": {},
   "source": [
    "Comparing the metrics above, the model that achieved the best performance was Random Forest Regressor.\n",
    "However the **XGBoost Regressor** has achieved similar performance and it is lighter than Random Forest to be carried."
   ]
  },
  {
   "cell_type": "markdown",
   "id": "c43b270a",
   "metadata": {},
   "source": [
    "### 4.5. Hyperparameter Fine Tuning - Random Search"
   ]
  },
  {
   "cell_type": "code",
   "execution_count": 37,
   "id": "a11b1dd6",
   "metadata": {},
   "outputs": [],
   "source": [
    "## Parameters Variability\n",
    "#param = {'n_estimators':[1500,1700,2500,3000],\n",
    "#         'eta':[0.01,0.03],\n",
    "#         'max_depth':[3,5,7],\n",
    "#         'subsample':[0.3,0.5,0.7],\n",
    "#         'colsample_bytree':[0.3,0.5,0.7],\n",
    "#         'min_child_weight':[3,5,7]}\n",
    "#\n",
    "## Random Search \n",
    "#tscv = TimeSeriesSplit(n_splits=5)\n",
    "#rscv = RandomizedSearchCV( estimator=model_xgb, param_distributions=param, n_iter=5, n_jobs=-1, cv=tscv, random_state=42, verbose=True)\n",
    "#model_xgb_tuned = rscv.fit(X_train, y_train)\n",
    "#model_xgb_tuned.best_params_"
   ]
  },
  {
   "cell_type": "markdown",
   "id": "44206dd5",
   "metadata": {},
   "source": [
    "### 4.6. Final Model"
   ]
  },
  {
   "cell_type": "code",
   "execution_count": 38,
   "id": "912a19cb",
   "metadata": {},
   "outputs": [
    {
     "data": {
      "text/html": [
       "<div>\n",
       "<style scoped>\n",
       "    .dataframe tbody tr th:only-of-type {\n",
       "        vertical-align: middle;\n",
       "    }\n",
       "\n",
       "    .dataframe tbody tr th {\n",
       "        vertical-align: top;\n",
       "    }\n",
       "\n",
       "    .dataframe thead th {\n",
       "        text-align: right;\n",
       "    }\n",
       "</style>\n",
       "<table border=\"1\" class=\"dataframe\">\n",
       "  <thead>\n",
       "    <tr style=\"text-align: right;\">\n",
       "      <th></th>\n",
       "      <th>Model Name</th>\n",
       "      <th>MAE</th>\n",
       "      <th>MAPE</th>\n",
       "      <th>RMSE</th>\n",
       "    </tr>\n",
       "  </thead>\n",
       "  <tbody>\n",
       "    <tr>\n",
       "      <th>0</th>\n",
       "      <td>XGBoost Regressor Tuned</td>\n",
       "      <td>865.072097</td>\n",
       "      <td>0.129818</td>\n",
       "      <td>1239.615788</td>\n",
       "    </tr>\n",
       "  </tbody>\n",
       "</table>\n",
       "</div>"
      ],
      "text/plain": [
       "                Model Name         MAE      MAPE         RMSE\n",
       "0  XGBoost Regressor Tuned  865.072097  0.129818  1239.615788"
      ]
     },
     "execution_count": 38,
     "metadata": {},
     "output_type": "execute_result"
    }
   ],
   "source": [
    "param_tuned = {'n_estimators':3000,\n",
    "                'eta':0.03,\n",
    "                'max_depth':5,\n",
    "                'subsample':0.7,\n",
    "                'colsample_bytree':0.7,\n",
    "                'min_child_weight':3}\n",
    "\n",
    "# model\n",
    "model_xgb_tuned = xgb.XGBRegressor(objective='reg:squarederror',\n",
    "                                   n_estimators=param_tuned['n_estimators'],\n",
    "                                   eta=param_tuned['eta'],\n",
    "                                   max_depth=param_tuned['max_depth'],\n",
    "                                   subsample=param_tuned['subsample'],\n",
    "                                   colsample_bytree=param_tuned['colsample_bytree'],\n",
    "                                   min_child_weight =param_tuned['min_child_weight']).fit(X_train,y_train)\n",
    "\n",
    "#prediction\n",
    "yhat_xgb_tuned = model_xgb_tuned.predict(X_test)\n",
    "\n",
    "#performance\n",
    "xgb_result_tuned = ml_error('XGBoost Regressor Tuned',np.expm1(y_test),np.expm1(yhat_xgb_tuned))\n",
    "xgb_result_tuned    "
   ]
  },
  {
   "cell_type": "code",
   "execution_count": 39,
   "id": "f9c972f6",
   "metadata": {},
   "outputs": [],
   "source": [
    "# Save trained model\n",
    "pickle.dump( model_xgb_tuned, open( '../model/model_store_sales_prediction.pkl', 'wb') )"
   ]
  },
  {
   "cell_type": "markdown",
   "id": "7b1af35e",
   "metadata": {},
   "source": [
    "# 5. EVALUATION"
   ]
  },
  {
   "cell_type": "code",
   "execution_count": 49,
   "id": "5110914f",
   "metadata": {},
   "outputs": [
    {
     "data": {
      "text/html": [
       "<div>\n",
       "<style scoped>\n",
       "    .dataframe tbody tr th:only-of-type {\n",
       "        vertical-align: middle;\n",
       "    }\n",
       "\n",
       "    .dataframe tbody tr th {\n",
       "        vertical-align: top;\n",
       "    }\n",
       "\n",
       "    .dataframe thead th {\n",
       "        text-align: right;\n",
       "    }\n",
       "</style>\n",
       "<table border=\"1\" class=\"dataframe\">\n",
       "  <thead>\n",
       "    <tr style=\"text-align: right;\">\n",
       "      <th></th>\n",
       "      <th>store</th>\n",
       "      <th>predictions</th>\n",
       "      <th>worst_scenario</th>\n",
       "      <th>best_scenario</th>\n",
       "      <th>MAE</th>\n",
       "      <th>MAPE</th>\n",
       "    </tr>\n",
       "  </thead>\n",
       "  <tbody>\n",
       "    <tr>\n",
       "      <th>0</th>\n",
       "      <td>1</td>\n",
       "      <td>169300.937500</td>\n",
       "      <td>168976.626947</td>\n",
       "      <td>169625.248053</td>\n",
       "      <td>324.310553</td>\n",
       "      <td>0.075065</td>\n",
       "    </tr>\n",
       "    <tr>\n",
       "      <th>1</th>\n",
       "      <td>2</td>\n",
       "      <td>179801.234375</td>\n",
       "      <td>179368.365538</td>\n",
       "      <td>180234.103212</td>\n",
       "      <td>432.868837</td>\n",
       "      <td>0.085957</td>\n",
       "    </tr>\n",
       "    <tr>\n",
       "      <th>2</th>\n",
       "      <td>3</td>\n",
       "      <td>274302.468750</td>\n",
       "      <td>273477.867385</td>\n",
       "      <td>275127.070115</td>\n",
       "      <td>824.601365</td>\n",
       "      <td>0.112619</td>\n",
       "    </tr>\n",
       "    <tr>\n",
       "      <th>3</th>\n",
       "      <td>4</td>\n",
       "      <td>344552.687500</td>\n",
       "      <td>343651.960647</td>\n",
       "      <td>345453.414353</td>\n",
       "      <td>900.726853</td>\n",
       "      <td>0.086099</td>\n",
       "    </tr>\n",
       "    <tr>\n",
       "      <th>4</th>\n",
       "      <td>5</td>\n",
       "      <td>179075.750000</td>\n",
       "      <td>178598.485550</td>\n",
       "      <td>179553.014450</td>\n",
       "      <td>477.264450</td>\n",
       "      <td>0.112931</td>\n",
       "    </tr>\n",
       "    <tr>\n",
       "      <th>...</th>\n",
       "      <td>...</td>\n",
       "      <td>...</td>\n",
       "      <td>...</td>\n",
       "      <td>...</td>\n",
       "      <td>...</td>\n",
       "      <td>...</td>\n",
       "    </tr>\n",
       "    <tr>\n",
       "      <th>1110</th>\n",
       "      <td>1111</td>\n",
       "      <td>184375.062500</td>\n",
       "      <td>183598.327887</td>\n",
       "      <td>185151.797113</td>\n",
       "      <td>776.734613</td>\n",
       "      <td>0.175338</td>\n",
       "    </tr>\n",
       "    <tr>\n",
       "      <th>1111</th>\n",
       "      <td>1112</td>\n",
       "      <td>354650.750000</td>\n",
       "      <td>353336.671875</td>\n",
       "      <td>355964.828125</td>\n",
       "      <td>1314.078125</td>\n",
       "      <td>0.164717</td>\n",
       "    </tr>\n",
       "    <tr>\n",
       "      <th>1112</th>\n",
       "      <td>1113</td>\n",
       "      <td>250180.812500</td>\n",
       "      <td>249571.012906</td>\n",
       "      <td>250790.612094</td>\n",
       "      <td>609.799594</td>\n",
       "      <td>0.093490</td>\n",
       "    </tr>\n",
       "    <tr>\n",
       "      <th>1113</th>\n",
       "      <td>1114</td>\n",
       "      <td>756161.312500</td>\n",
       "      <td>753328.287690</td>\n",
       "      <td>758994.337310</td>\n",
       "      <td>2833.024810</td>\n",
       "      <td>0.118787</td>\n",
       "    </tr>\n",
       "    <tr>\n",
       "      <th>1114</th>\n",
       "      <td>1115</td>\n",
       "      <td>263833.562500</td>\n",
       "      <td>263168.238070</td>\n",
       "      <td>264498.886930</td>\n",
       "      <td>665.324430</td>\n",
       "      <td>0.093611</td>\n",
       "    </tr>\n",
       "  </tbody>\n",
       "</table>\n",
       "<p>1115 rows × 6 columns</p>\n",
       "</div>"
      ],
      "text/plain": [
       "      store    predictions  worst_scenario  best_scenario          MAE  \\\n",
       "0         1  169300.937500   168976.626947  169625.248053   324.310553   \n",
       "1         2  179801.234375   179368.365538  180234.103212   432.868837   \n",
       "2         3  274302.468750   273477.867385  275127.070115   824.601365   \n",
       "3         4  344552.687500   343651.960647  345453.414353   900.726853   \n",
       "4         5  179075.750000   178598.485550  179553.014450   477.264450   \n",
       "...     ...            ...             ...            ...          ...   \n",
       "1110   1111  184375.062500   183598.327887  185151.797113   776.734613   \n",
       "1111   1112  354650.750000   353336.671875  355964.828125  1314.078125   \n",
       "1112   1113  250180.812500   249571.012906  250790.612094   609.799594   \n",
       "1113   1114  756161.312500   753328.287690  758994.337310  2833.024810   \n",
       "1114   1115  263833.562500   263168.238070  264498.886930   665.324430   \n",
       "\n",
       "          MAPE  \n",
       "0     0.075065  \n",
       "1     0.085957  \n",
       "2     0.112619  \n",
       "3     0.086099  \n",
       "4     0.112931  \n",
       "...        ...  \n",
       "1110  0.175338  \n",
       "1111  0.164717  \n",
       "1112  0.093490  \n",
       "1113  0.118787  \n",
       "1114  0.093611  \n",
       "\n",
       "[1115 rows x 6 columns]"
      ]
     },
     "execution_count": 49,
     "metadata": {},
     "output_type": "execute_result"
    }
   ],
   "source": [
    "# Dataset to evaluation\n",
    "df7 = df6_test.copy()\n",
    "df7['sales'] = np.expm1(df7['sales'])\n",
    "df7['predictions'] = np.expm1(yhat_xgb_tuned)\n",
    "\n",
    "# Sum of predictions\n",
    "df7_aux = df7[['store','predictions']].groupby('store').sum().reset_index()\n",
    "\n",
    "# MAE and MAPE\n",
    "df7_aux1 = df7[['store','predictions','sales']].groupby('store').apply(lambda x: mean_absolute_error(x['sales'], x['predictions'])).reset_index().rename(columns={0:'MAE'})\n",
    "df7_aux2 = df7[['store','predictions','sales']].groupby('store').apply(lambda x: mean_absolute_percentage_error(x['sales'],x['predictions'])).reset_index().rename(columns={0:'MAPE'})\n",
    "\n",
    "# Merge\n",
    "df7_aux3 = pd.merge(df7_aux1,df7_aux2,how='inner',on='store')\n",
    "df7_aux4 = pd.merge(df7_aux,df7_aux3,how='inner',on='store')\n",
    "\n",
    "# Scenarios\n",
    "df7_aux4['worst_scenario'] = df7_aux4['predictions'] - df7_aux4['MAE']\n",
    "df7_aux4['best_scenario'] = df7_aux4['predictions'] + df7_aux4['MAE']\n",
    "\n",
    "# Order columns\n",
    "df7_aux4 = df7_aux4[['store','predictions','worst_scenario','best_scenario','MAE','MAPE']]\n",
    "df7_aux4"
   ]
  },
  {
   "cell_type": "code",
   "execution_count": 50,
   "id": "d94b36ca",
   "metadata": {},
   "outputs": [
    {
     "data": {
      "image/png": "[encoded data removed]",
      "text/plain": [
       "<Figure size 1080x504 with 1 Axes>"
      ]
     },
     "metadata": {},
     "output_type": "display_data"
    }
   ],
   "source": [
    "plt.figure(figsize = (15,7))\n",
    "sns.scatterplot(x = 'store',y = 'MAPE', data = df7_aux4);"
   ]
  },
  {
   "cell_type": "code",
   "execution_count": 51,
   "id": "d34a8c39",
   "metadata": {},
   "outputs": [
    {
     "data": {
      "text/html": [
       "<div>\n",
       "<style scoped>\n",
       "    .dataframe tbody tr th:only-of-type {\n",
       "        vertical-align: middle;\n",
       "    }\n",
       "\n",
       "    .dataframe tbody tr th {\n",
       "        vertical-align: top;\n",
       "    }\n",
       "\n",
       "    .dataframe thead th {\n",
       "        text-align: right;\n",
       "    }\n",
       "</style>\n",
       "<table border=\"1\" class=\"dataframe\">\n",
       "  <thead>\n",
       "    <tr style=\"text-align: right;\">\n",
       "      <th></th>\n",
       "      <th>Scenarios</th>\n",
       "      <th>Values</th>\n",
       "    </tr>\n",
       "  </thead>\n",
       "  <tbody>\n",
       "    <tr>\n",
       "      <th>0</th>\n",
       "      <td>predictions</td>\n",
       "      <td>R$ 287,229,504.00</td>\n",
       "    </tr>\n",
       "    <tr>\n",
       "      <th>1</th>\n",
       "      <td>worst_scenario</td>\n",
       "      <td>R$ 286,262,244.44</td>\n",
       "    </tr>\n",
       "    <tr>\n",
       "      <th>2</th>\n",
       "      <td>best_scenario</td>\n",
       "      <td>R$ 288,196,758.92</td>\n",
       "    </tr>\n",
       "  </tbody>\n",
       "</table>\n",
       "</div>"
      ],
      "text/plain": [
       "        Scenarios             Values\n",
       "0     predictions  R$ 287,229,504.00\n",
       "1  worst_scenario  R$ 286,262,244.44\n",
       "2   best_scenario  R$ 288,196,758.92"
      ]
     },
     "execution_count": 51,
     "metadata": {},
     "output_type": "execute_result"
    }
   ],
   "source": [
    "# Total Business Impact\n",
    "df7_aux5 = df7_aux4[['predictions','worst_scenario','best_scenario']].apply(lambda x: np.sum(x),axis=0).reset_index().rename(columns={'index': 'Scenarios',0:'Values'})\n",
    "df7_aux5['Values'] = df7_aux5['Values'].map('R$ {:,.2f}'.format)\n",
    "df7_aux5"
   ]
  },
  {
   "cell_type": "code",
   "execution_count": 52,
   "id": "fd42766f",
   "metadata": {},
   "outputs": [
    {
     "data": {
      "image/png": "[encoded data removed]",
      "text/plain": [
       "<Figure size 1440x720 with 1 Axes>"
      ]
     },
     "metadata": {},
     "output_type": "display_data"
    }
   ],
   "source": [
    "# Machine Learning Performance\n",
    "sns.lineplot(x='date',y='sales',data=df7,label='SALES');\n",
    "sns.lineplot(x='date',y='predictions',data=df7,label='PREDICTIONS');"
   ]
  }
 ],
 "metadata": {
  "kernelspec": {
   "display_name": "Python 3",
   "language": "python",
   "name": "python3"
  },
  "language_info": {
   "codemirror_mode": {
    "name": "ipython",
    "version": 3
   },
   "file_extension": ".py",
   "mimetype": "text/x-python",
   "name": "python",
   "nbconvert_exporter": "python",
   "pygments_lexer": "ipython3",
   "version": "3.8.8"
  }
 },
 "nbformat": 4,
 "nbformat_minor": 5
}
